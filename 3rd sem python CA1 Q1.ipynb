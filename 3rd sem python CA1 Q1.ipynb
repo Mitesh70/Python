{
 "cells": [
  {
   "cell_type": "markdown",
   "id": "61f50d66",
   "metadata": {},
   "source": [
    "# Write a script in python to generate first 20 prime numbers with atleast 3 digits "
   ]
  },
  {
   "cell_type": "code",
   "execution_count": null,
   "id": "03d2b56b",
   "metadata": {},
   "outputs": [],
   "source": [
    "def is_prime(n):\n",
    "    if n <= 1:\n",
    "    return false\n",
    "if n <= 3:\n",
    "    return true\n",
    "if n % 2 == 0 or n % 3 == 0\n",
    "return false\n",
    "i=5\n",
    "while i * i <=n:\n",
    "    if n % i == 0 or n % (i + 2) == 0:\n",
    "        return false\n",
    "    i += 6\n",
    "    return true\n",
    "def min_prime_number_generate(num_prime, min_digits):\n",
    "    \n",
    "primes = []\n",
    "num = 100\n",
    "while len(primes) < num_primes:\n",
    "    if is_prime(num):\n",
    "\n"
   ]
  }
 ],
 "metadata": {
  "kernelspec": {
   "display_name": "Python 3 (ipykernel)",
   "language": "python",
   "name": "python3"
  },
  "language_info": {
   "codemirror_mode": {
    "name": "ipython",
    "version": 3
   },
   "file_extension": ".py",
   "mimetype": "text/x-python",
   "name": "python",
   "nbconvert_exporter": "python",
   "pygments_lexer": "ipython3",
   "version": "3.11.3"
  }
 },
 "nbformat": 4,
 "nbformat_minor": 5
}
