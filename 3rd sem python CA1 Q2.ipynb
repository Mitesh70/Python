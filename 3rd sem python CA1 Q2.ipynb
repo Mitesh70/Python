{
 "cells": [
  {
   "cell_type": "markdown",
   "id": "dfcba365",
   "metadata": {},
   "source": [
    "# Write a program to check student’s grade. Your program should fulfill the following conditions.\n",
    "Grade A- Outstanding \n",
    "Grade B- Excellent \n",
    "Grade C- Very good\n",
    "Grade D- Good\n",
    "Grade E- Satisfactory\n",
    "Grade F- Unrecognized\n",
    "A program should also ask to enter the student’s name, class, and section. The expected output is attached below.\n",
    "Enter student name: Sonam\n",
    "Enter class: 11\n",
    "Enter Section: D\n",
    "Enter student grade: B\n",
    "Name: Sonam\n",
    "Class:11\n",
    "Section: D\n",
    "Grade: Excellent\n"
   ]
  },
  {
   "cell_type": "code",
   "execution_count": 1,
   "id": "cbeec59a",
   "metadata": {},
   "outputs": [
    {
     "name": "stdout",
     "output_type": "stream",
     "text": [
      "Enter student name: Mitesh\n",
      "Enter class: MCA\n",
      "Enter Section: D2214\n",
      "Enter student grade: A\n",
      "Name: Mitesh\n",
      "Class: MCA\n",
      "Section: D2214\n",
      "Grade: Outstanding\n"
     ]
    }
   ],
   "source": [
    "def get_grade_description(grade):\n",
    "    if grade == 'A':\n",
    "        return \"Outstanding\"\n",
    "    elif grade == 'B':\n",
    "        return \"Excellent\"\n",
    "    elif grade == 'C':\n",
    "        return \"Very good\"\n",
    "    elif grade == 'D':\n",
    "        return \"Good\"\n",
    "    elif grade == 'E':\n",
    "        return \"Satisfactory\"\n",
    "    else:\n",
    "        return \"Unrecognized\"\n",
    "\n",
    "def main():\n",
    "    student_name = input(\"Enter student name: \")\n",
    "    student_class = input(\"Enter class: \")\n",
    "    student_section = input(\"Enter Section: \")\n",
    "    student_grade = input(\"Enter student grade: \")\n",
    "\n",
    "    grade_description = get_grade_description(student_grade)\n",
    "\n",
    "    print(\"Name:\", student_name)\n",
    "    print(\"Class:\", student_class)\n",
    "    print(\"Section:\", student_section)\n",
    "    print(\"Grade:\", grade_description)\n",
    "\n",
    "if __name__ == \"__main__\":\n",
    "    main()\n"
   ]
  },
  {
   "cell_type": "code",
   "execution_count": null,
   "id": "deb935c9",
   "metadata": {},
   "outputs": [],
   "source": []
  }
 ],
 "metadata": {
  "kernelspec": {
   "display_name": "Python 3 (ipykernel)",
   "language": "python",
   "name": "python3"
  },
  "language_info": {
   "codemirror_mode": {
    "name": "ipython",
    "version": 3
   },
   "file_extension": ".py",
   "mimetype": "text/x-python",
   "name": "python",
   "nbconvert_exporter": "python",
   "pygments_lexer": "ipython3",
   "version": "3.11.3"
  }
 },
 "nbformat": 4,
 "nbformat_minor": 5
}
