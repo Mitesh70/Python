{
 "cells": [
  {
   "cell_type": "markdown",
   "id": "a064d95f",
   "metadata": {},
   "source": [
    "# DataTypes"
   ]
  },
  {
   "cell_type": "markdown",
   "id": "ed18b7e7",
   "metadata": {},
   "source": [
    "# #Airthematic Operators"
   ]
  },
  {
   "cell_type": "code",
   "execution_count": 1,
   "id": "8f48e459",
   "metadata": {},
   "outputs": [
    {
     "name": "stdout",
     "output_type": "stream",
     "text": [
      "The value of 3+4 is 7\n",
      "the value of 3-4 is -1\n",
      "The value of 3*4is 12\n",
      "The value of 3/4 is 0.75\n"
     ]
    }
   ],
   "source": [
    "a = 3\n",
    "b = 4\n",
    "\n",
    "print(\"The value of 3+4 is\", 3+4)\n",
    "print(\"the value of 3-4 is\", a-b)\n",
    "print(\"The value of 3*4is\", 3*4)\n",
    "print(\"The value of 3/4 is\", 3/4)"
   ]
  },
  {
   "cell_type": "markdown",
   "id": "4e929ee8",
   "metadata": {},
   "source": [
    "# Assignment Operators"
   ]
  },
  {
   "cell_type": "code",
   "execution_count": 2,
   "id": "72a74e7d",
   "metadata": {},
   "outputs": [
    {
     "name": "stdout",
     "output_type": "stream",
     "text": [
      "30.0\n"
     ]
    }
   ],
   "source": [
    "a = 30\n",
    "a += 2\n",
    "a -= 2\n",
    "a *= 2\n",
    "a /= 2\n",
    "print(a)\n"
   ]
  },
  {
   "cell_type": "markdown",
   "id": "1e9f9e6a",
   "metadata": {},
   "source": [
    "# Comparison Operators"
   ]
  },
  {
   "cell_type": "code",
   "execution_count": 3,
   "id": "ff5a2bc9",
   "metadata": {},
   "outputs": [
    {
     "name": "stdout",
     "output_type": "stream",
     "text": [
      "False\n"
     ]
    }
   ],
   "source": [
    "b = (4>7)\n",
    "print(b)"
   ]
  },
  {
   "cell_type": "code",
   "execution_count": 4,
   "id": "9b291040",
   "metadata": {},
   "outputs": [
    {
     "name": "stdout",
     "output_type": "stream",
     "text": [
      "True\n"
     ]
    }
   ],
   "source": [
    "a = (7>3)\n",
    "print(a)"
   ]
  },
  {
   "cell_type": "code",
   "execution_count": 5,
   "id": "42d5c225",
   "metadata": {},
   "outputs": [
    {
     "name": "stdout",
     "output_type": "stream",
     "text": [
      "True\n"
     ]
    }
   ],
   "source": [
    "a = (7>=4)\n",
    "print(a)"
   ]
  },
  {
   "cell_type": "code",
   "execution_count": 6,
   "id": "aacc2e24",
   "metadata": {},
   "outputs": [
    {
     "name": "stdout",
     "output_type": "stream",
     "text": [
      "True\n"
     ]
    }
   ],
   "source": [
    "a = (23!=4)\n",
    "print(a)"
   ]
  },
  {
   "cell_type": "markdown",
   "id": "bfd9a9c0",
   "metadata": {},
   "source": [
    "# Logical Operators"
   ]
  },
  {
   "cell_type": "code",
   "execution_count": 7,
   "id": "2a812e16",
   "metadata": {},
   "outputs": [
    {
     "name": "stdout",
     "output_type": "stream",
     "text": [
      "The value of bool1 and bool 2 is False\n",
      "The value of bool1 and bool 2 is True\n",
      "The value of not bool2 is True\n"
     ]
    }
   ],
   "source": [
    "bool1 = True\n",
    "bool2 = False\n",
    "print(\"The value of bool1 and bool 2 is\", (bool1 and bool2))\n",
    "print(\"The value of bool1 and bool 2 is\", (bool1 or bool2))\n",
    "print(\"The value of not bool2 is\", (not bool2))"
   ]
  },
  {
   "cell_type": "markdown",
   "id": "7d099370",
   "metadata": {},
   "source": [
    "# Typecasting (Way to convert one data type two another ..Only when valid data type is present)"
   ]
  },
  {
   "cell_type": "code",
   "execution_count": 8,
   "id": "7955fc2d",
   "metadata": {},
   "outputs": [
    {
     "name": "stdout",
     "output_type": "stream",
     "text": [
      "<class 'str'>\n"
     ]
    }
   ],
   "source": [
    "a = \"3434\"\n",
    "\n",
    "print(type(a))"
   ]
  },
  {
   "cell_type": "code",
   "execution_count": 9,
   "id": "095f3e4c",
   "metadata": {},
   "outputs": [
    {
     "name": "stdout",
     "output_type": "stream",
     "text": [
      "<class 'int'>\n",
      "3439\n"
     ]
    }
   ],
   "source": [
    "a = \"3434\"\n",
    "a = int(a)\n",
    "\n",
    "print(type(a))\n",
    "print(a + 5)"
   ]
  },
  {
   "cell_type": "markdown",
   "id": "69e65982",
   "metadata": {},
   "source": [
    "# Input Function"
   ]
  },
  {
   "cell_type": "code",
   "execution_count": 10,
   "id": "31ff8add",
   "metadata": {},
   "outputs": [
    {
     "name": "stdout",
     "output_type": "stream",
     "text": [
      "Enter your name:\n",
      "\n"
     ]
    }
   ],
   "source": [
    "a = input(\"Enter your name:\")\n",
    "print(a)"
   ]
  },
  {
   "cell_type": "code",
   "execution_count": 12,
   "id": "5dc89349",
   "metadata": {},
   "outputs": [
    {
     "name": "stdout",
     "output_type": "stream",
     "text": [
      "Enter a Number:21\n",
      "<class 'int'>\n"
     ]
    }
   ],
   "source": [
    "a = input(\"Enter a Number:\")\n",
    "a = int(a) #Converet a to an integer(If POssible)\n",
    "print(type(a))"
   ]
  },
  {
   "cell_type": "markdown",
   "id": "0ddb25c9",
   "metadata": {},
   "source": [
    "## Write a program for add two numbers"
   ]
  },
  {
   "cell_type": "code",
   "execution_count": 13,
   "id": "e590bb08",
   "metadata": {},
   "outputs": [
    {
     "name": "stdout",
     "output_type": "stream",
     "text": [
      "The sum of a and b is 56\n"
     ]
    }
   ],
   "source": [
    "a = 23\n",
    "b = 33\n",
    "print(\"The sum of a and b is\", a + b)"
   ]
  },
  {
   "cell_type": "markdown",
   "id": "946ace42",
   "metadata": {},
   "source": [
    "## Write a program for finf remainder when a number is divided by 2"
   ]
  },
  {
   "cell_type": "code",
   "execution_count": 14,
   "id": "2a6789f6",
   "metadata": {},
   "outputs": [
    {
     "name": "stdout",
     "output_type": "stream",
     "text": [
      "The remainder when a is divided by b is 1\n"
     ]
    }
   ],
   "source": [
    "a = 22\n",
    "b = 3\n",
    "\n",
    "print(\"The remainder when a is divided by b is\", a%b)"
   ]
  },
  {
   "cell_type": "markdown",
   "id": "8401f3d4",
   "metadata": {},
   "source": [
    "## Write a program to find average of two numbers entered by the user"
   ]
  },
  {
   "cell_type": "code",
   "execution_count": 15,
   "id": "7908cbba",
   "metadata": {},
   "outputs": [
    {
     "name": "stdout",
     "output_type": "stream",
     "text": [
      "Enter First number: 12\n",
      "Enter Second Number: 11\n",
      "The average value of a and b is 11.5\n"
     ]
    }
   ],
   "source": [
    "a = input(\"Enter First number: \")\n",
    "b = input(\"Enter Second Number: \")\n",
    "a = int (a)\n",
    "b = int (b)\n",
    "avg = (a + b)/2\n",
    "print(\"The average value of a and b is\",avg)"
   ]
  }
 ],
 "metadata": {
  "kernelspec": {
   "display_name": "Python 3 (ipykernel)",
   "language": "python",
   "name": "python3"
  },
  "language_info": {
   "codemirror_mode": {
    "name": "ipython",
    "version": 3
   },
   "file_extension": ".py",
   "mimetype": "text/x-python",
   "name": "python",
   "nbconvert_exporter": "python",
   "pygments_lexer": "ipython3",
   "version": "3.11.3"
  }
 },
 "nbformat": 4,
 "nbformat_minor": 5
}
